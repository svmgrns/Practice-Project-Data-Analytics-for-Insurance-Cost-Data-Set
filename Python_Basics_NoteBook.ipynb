{
  "cells": [
    {
      "cell_type": "markdown",
      "metadata": {
        "id": "view-in-github",
        "colab_type": "text"
      },
      "source": [
        "<a href=\"https://colab.research.google.com/github/svmgrns/Practice-Project-Data-Analytics-for-Insurance-Cost-Data-Set/blob/main/Python_Basics_NoteBook.ipynb\" target=\"_parent\"><img src=\"https://colab.research.google.com/assets/colab-badge.svg\" alt=\"Open In Colab\"/></a>"
      ]
    },
    {
      "cell_type": "markdown",
      "metadata": {
        "id": "7Vqh9aB7BXY2"
      },
      "source": [
        "# Python Basics NoteBook"
      ]
    },
    {
      "cell_type": "code",
      "execution_count": 1,
      "metadata": {
        "id": "6ua6DtsMBXY4",
        "colab": {
          "base_uri": "https://localhost:8080/"
        },
        "outputId": "e2ec8a33-1cff-49ef-ecd4-79437a630de1"
      },
      "outputs": [
        {
          "output_type": "stream",
          "name": "stdout",
          "text": [
            "3.10.12 (main, Jun 11 2023, 05:26:28) [GCC 11.4.0]\n"
          ]
        }
      ],
      "source": [
        "#Write a Python code to return your Python version\n",
        "import sys\n",
        "print(sys.version)"
      ]
    },
    {
      "cell_type": "code",
      "execution_count": 2,
      "metadata": {
        "id": "-1OepV8sBXY5",
        "colab": {
          "base_uri": "https://localhost:8080/"
        },
        "outputId": "1178f0cf-d00c-41b1-9cba-638395dac3cc"
      },
      "outputs": [
        {
          "output_type": "stream",
          "name": "stdout",
          "text": [
            "customer id=513\n"
          ]
        }
      ],
      "source": [
        "#Write a Python code to declare variable id=\"513\".\n",
        "#Print the following statement \"customer id =513\". [Don't use print(\"customer id =513\")]\n",
        "#Run the following statement, why there is an error\n",
        "\n",
        "#Run the following statement, why there is an error\n",
        "\n",
        "id =\"513\"\n",
        "print(\"customer id=\" + id)"
      ]
    },
    {
      "cell_type": "code",
      "execution_count": 3,
      "metadata": {
        "id": "BO_b9MltBXY5",
        "colab": {
          "base_uri": "https://localhost:8080/",
          "height": 210
        },
        "outputId": "545caee8-d1d0-4bb2-afb4-18e92715f887"
      },
      "outputs": [
        {
          "output_type": "error",
          "ename": "TypeError",
          "evalue": "ignored",
          "traceback": [
            "\u001b[0;31m---------------------------------------------------------------------------\u001b[0m",
            "\u001b[0;31mTypeError\u001b[0m                                 Traceback (most recent call last)",
            "\u001b[0;32m<ipython-input-3-8cc45753af42>\u001b[0m in \u001b[0;36m<cell line: 3>\u001b[0;34m()\u001b[0m\n\u001b[1;32m      1\u001b[0m \u001b[0;31m#Run the following statement, why there is an error\u001b[0m\u001b[0;34m\u001b[0m\u001b[0;34m\u001b[0m\u001b[0m\n\u001b[1;32m      2\u001b[0m \u001b[0;34m\u001b[0m\u001b[0m\n\u001b[0;32m----> 3\u001b[0;31m \u001b[0mid\u001b[0m\u001b[0;34m=\u001b[0m\u001b[0mid\u001b[0m\u001b[0;34m+\u001b[0m\u001b[0;36m1\u001b[0m \u001b[0;31m# can't concat string with int\u001b[0m\u001b[0;34m\u001b[0m\u001b[0;34m\u001b[0m\u001b[0m\n\u001b[0m",
            "\u001b[0;31mTypeError\u001b[0m: can only concatenate str (not \"int\") to str"
          ]
        }
      ],
      "source": [
        "#Run the following statement, why there is an error\n",
        "\n",
        "id=id+1 # can't concat string with int"
      ]
    },
    {
      "cell_type": "code",
      "execution_count": 4,
      "metadata": {
        "id": "XwWRaMgyBXY5",
        "colab": {
          "base_uri": "https://localhost:8080/"
        },
        "outputId": "72cda0b2-9e15-4784-a2d0-e8328e99331d"
      },
      "outputs": [
        {
          "output_type": "stream",
          "name": "stdout",
          "text": [
            "514\n"
          ]
        }
      ],
      "source": [
        "#Convert the variable id into an integer, increment it by 1.\n",
        "#Assign the result to variable new_id.\n",
        "#Print the new_id\n",
        "\n",
        "new_id = int(id) + 1\n",
        "print(new_id)"
      ]
    },
    {
      "cell_type": "code",
      "execution_count": 5,
      "metadata": {
        "id": "_Sy-NsK5BXY5",
        "colab": {
          "base_uri": "https://localhost:8080/"
        },
        "outputId": "ff2ced8f-d49a-452a-e93b-309e40509a58"
      },
      "outputs": [
        {
          "output_type": "stream",
          "name": "stdout",
          "text": [
            "Twinkle, twinkle, little star,\n",
            "\tHow I wonder what you are!\n",
            "\t\tUp above the world so high,\n",
            "\t\t\tLike a diamond in the sky.\n"
          ]
        }
      ],
      "source": [
        "#Write a Python code to print the following string in a specific format (see the output).\n",
        "\n",
        "# Twinkle, twinkle, little star,\n",
        "#     How I wonder what you are!\n",
        "#        Up above the world so high,\n",
        "#            Like a diamond in the sky.\n",
        "\n",
        "print(\"Twinkle, twinkle, little star,\\n\\tHow I wonder what you are!\\n\\t\\tUp above the world so high,\\n\\t\\t\\tLike a diamond in the sky.\")\n"
      ]
    },
    {
      "cell_type": "code",
      "execution_count": 6,
      "metadata": {
        "id": "DHjsb8aqBXY6",
        "colab": {
          "base_uri": "https://localhost:8080/"
        },
        "outputId": "1d993f9b-6233-4292-9ee7-7da5b4d4f3e5"
      },
      "outputs": [
        {
          "output_type": "stream",
          "name": "stdout",
          "text": [
            "P\n"
          ]
        }
      ],
      "source": [
        "#Givin the following string variable, # Print the first element in the string\n",
        "\n",
        "course=\"Python for Data Science\"\n",
        "print(course[0])"
      ]
    },
    {
      "cell_type": "code",
      "execution_count": 7,
      "metadata": {
        "id": "pmO97EHaBXY6",
        "colab": {
          "base_uri": "https://localhost:8080/"
        },
        "outputId": "2e362472-812f-48eb-801a-de4d5a9c72b3"
      },
      "outputs": [
        {
          "output_type": "stream",
          "name": "stdout",
          "text": [
            "t\n"
          ]
        }
      ],
      "source": [
        "# Print the element on the 13th index in the string\n",
        "print(course[13])"
      ]
    },
    {
      "cell_type": "code",
      "execution_count": 8,
      "metadata": {
        "id": "A270DsA4BXY6",
        "colab": {
          "base_uri": "https://localhost:8080/"
        },
        "outputId": "b98f1d70-cf3f-478a-95f2-93f02a0cd188"
      },
      "outputs": [
        {
          "output_type": "execute_result",
          "data": {
            "text/plain": [
              "23"
            ]
          },
          "metadata": {},
          "execution_count": 8
        }
      ],
      "source": [
        "# Find the length of string\n",
        "len(course)"
      ]
    },
    {
      "cell_type": "code",
      "execution_count": 9,
      "metadata": {
        "id": "UrNhuOu4BXY6",
        "colab": {
          "base_uri": "https://localhost:8080/",
          "height": 36
        },
        "outputId": "4b745616-d73d-4ed3-a37d-240fa74321b0"
      },
      "outputs": [
        {
          "output_type": "execute_result",
          "data": {
            "text/plain": [
              "'e'"
            ],
            "application/vnd.google.colaboratory.intrinsic+json": {
              "type": "string"
            }
          },
          "metadata": {},
          "execution_count": 9
        }
      ],
      "source": [
        "# Print the last element in the string [use negative index]\n",
        "course[-1]"
      ]
    },
    {
      "cell_type": "code",
      "execution_count": 10,
      "metadata": {
        "id": "25HH_UCbBXY6",
        "colab": {
          "base_uri": "https://localhost:8080/",
          "height": 36
        },
        "outputId": "918c61a8-4672-46a3-9022-d66086e2b744"
      },
      "outputs": [
        {
          "output_type": "execute_result",
          "data": {
            "text/plain": [
              "'Data'"
            ],
            "application/vnd.google.colaboratory.intrinsic+json": {
              "type": "string"
            }
          },
          "metadata": {},
          "execution_count": 10
        }
      ],
      "source": [
        "# Take the slice on variable course with only index 11 to index 14\n",
        "course[11:15]"
      ]
    },
    {
      "cell_type": "code",
      "execution_count": 11,
      "metadata": {
        "id": "x0ve0f1nBXY7",
        "outputId": "050ba3bc-b518-452d-e1c2-061a2be39108",
        "colab": {
          "base_uri": "https://localhost:8080/",
          "height": 36
        }
      },
      "outputs": [
        {
          "output_type": "execute_result",
          "data": {
            "text/plain": [
              "'Ph ra i'"
            ],
            "application/vnd.google.colaboratory.intrinsic+json": {
              "type": "string"
            }
          },
          "metadata": {},
          "execution_count": 11
        }
      ],
      "source": [
        "# Get every third element in the range from index 0 to index 20\n",
        "course[0:21:3]"
      ]
    },
    {
      "cell_type": "code",
      "execution_count": 12,
      "metadata": {
        "id": "pqZZu0k-BXY7",
        "colab": {
          "base_uri": "https://localhost:8080/"
        },
        "outputId": "17e456df-7cb0-403f-e94b-52ceb7c0e77a"
      },
      "outputs": [
        {
          "output_type": "stream",
          "name": "stdout",
          "text": [
            "Python for Data Science, AI & Development\n"
          ]
        }
      ],
      "source": [
        "# Concatenate course string with \", AI & Development\"\n",
        "course = course + \", AI & Development\"\n",
        "print(course)"
      ]
    },
    {
      "cell_type": "code",
      "execution_count": 14,
      "metadata": {
        "id": "eOPR9qdPBXY7",
        "colab": {
          "base_uri": "https://localhost:8080/",
          "height": 36
        },
        "outputId": "a3d94c6c-4098-455b-a1c7-69ddcc706ac7"
      },
      "outputs": [
        {
          "output_type": "execute_result",
          "data": {
            "text/plain": [
              "'Python_for_Data_Science,_AI_&_Development'"
            ],
            "application/vnd.google.colaboratory.intrinsic+json": {
              "type": "string"
            }
          },
          "metadata": {},
          "execution_count": 14
        }
      ],
      "source": [
        "# Replace all the spaces with (_). New string should looks like\"Python_for_Data_Science,_AI_&_Development\"\n",
        "course.replace(\" \", \"_\")"
      ]
    },
    {
      "cell_type": "code",
      "execution_count": 15,
      "metadata": {
        "id": "jXEhPhjhBXY7",
        "colab": {
          "base_uri": "https://localhost:8080/"
        },
        "outputId": "b26c5c56-d209-470f-8fde-433c87f72e38"
      },
      "outputs": [
        {
          "output_type": "stream",
          "name": "stdout",
          "text": [
            "PYTHON FOR DATA SCIENCE, AI & DEVELOPMENT\n"
          ]
        }
      ],
      "source": [
        "# Convert all the characters in string to upper case\n",
        "print(course.upper())"
      ]
    }
  ],
  "metadata": {
    "kernelspec": {
      "display_name": "Python 3 (ipykernel)",
      "language": "python",
      "name": "python3"
    },
    "language_info": {
      "codemirror_mode": {
        "name": "ipython",
        "version": 3
      },
      "file_extension": ".py",
      "mimetype": "text/x-python",
      "name": "python",
      "nbconvert_exporter": "python",
      "pygments_lexer": "ipython3",
      "version": "3.9.12"
    },
    "colab": {
      "provenance": [],
      "toc_visible": true,
      "include_colab_link": true
    }
  },
  "nbformat": 4,
  "nbformat_minor": 0
}